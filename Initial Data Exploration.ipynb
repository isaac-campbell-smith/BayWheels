{
 "cells": [
  {
   "cell_type": "markdown",
   "metadata": {},
   "source": [
    "### Let's see what this looks like "
   ]
  },
  {
   "cell_type": "code",
   "execution_count": 1,
   "metadata": {},
   "outputs": [],
   "source": [
    "import pandas as pd\n",
    "import numpy as np\n",
    "import pickle\n",
    "import os\n",
    "import datetime\n",
    "import matplotlib.pyplot as plt"
   ]
  },
  {
   "cell_type": "code",
   "execution_count": 4,
   "metadata": {},
   "outputs": [],
   "source": [
    "%matplotlib inline\n",
    "%reload_ext autoreload\n",
    "%autoreload 2"
   ]
  },
  {
   "cell_type": "markdown",
   "metadata": {},
   "source": [
    "#### I'll be testing functions on this abbreviated chunk of one file"
   ]
  },
  {
   "cell_type": "code",
   "execution_count": 2,
   "metadata": {},
   "outputs": [],
   "source": [
    "test_df = pd.read_csv('data/2017-fordgobike-tripdata.csv').head(3000)"
   ]
  },
  {
   "cell_type": "code",
   "execution_count": 32,
   "metadata": {},
   "outputs": [
    {
     "name": "stdout",
     "output_type": "stream",
     "text": [
      "<class 'pandas.core.frame.DataFrame'>\n",
      "RangeIndex: 1000 entries, 0 to 999\n",
      "Data columns (total 13 columns):\n",
      "duration_sec               1000 non-null int64\n",
      "start_time                 1000 non-null object\n",
      "end_time                   1000 non-null object\n",
      "start_station_id           1000 non-null int64\n",
      "start_station_name         1000 non-null object\n",
      "start_station_latitude     1000 non-null float64\n",
      "start_station_longitude    1000 non-null float64\n",
      "end_station_id             1000 non-null int64\n",
      "end_station_name           1000 non-null object\n",
      "end_station_latitude       1000 non-null float64\n",
      "end_station_longitude      1000 non-null float64\n",
      "bike_id                    1000 non-null int64\n",
      "user_type                  1000 non-null object\n",
      "dtypes: float64(4), int64(4), object(5)\n",
      "memory usage: 101.7+ KB\n"
     ]
    }
   ],
   "source": [
    "test_df.info() ##ELABORATE LATER, THURSDAY AFT?FRIDAY"
   ]
  },
  {
   "cell_type": "code",
   "execution_count": 5,
   "metadata": {},
   "outputs": [],
   "source": [
    "folder = 'pickle/'\n",
    "files = sorted([folder+file for file in os.listdir(folder) if not file.startswith('.')])"
   ]
  },
  {
   "cell_type": "markdown",
   "metadata": {},
   "source": [
    "### THERE IS JUST OVER 1GB OF DATA ACROSS 27 CSV'S AND WE WON'T BE ABLE TO CONCAT THIS ALL INTO 1 DATAFRAME\n",
    "#### I'LL WRITE FUNCTIONS THAT WILL BE CALLED ON INDIVIDUAL DFs\n",
    "#### >FIRST WE'LL WANT TO CHECK TO SEE IF OUR THE MOST IMPORTANT COLUMNS HAVE NULL VALUES TO BE CLEANED"
   ]
  },
  {
   "cell_type": "code",
   "execution_count": 19,
   "metadata": {},
   "outputs": [],
   "source": [
    "from src.pickle_load import BikeData\n",
    "from src.data_funcs import *"
   ]
  },
  {
   "cell_type": "code",
   "execution_count": 10,
   "metadata": {},
   "outputs": [],
   "source": [
    "bike_data = BikeData(files)"
   ]
  },
  {
   "cell_type": "code",
   "execution_count": 11,
   "metadata": {},
   "outputs": [],
   "source": [
    "bike_data.do_on_all(check_problem_columns) #Should process and not show anything if there are no nulls"
   ]
  },
  {
   "cell_type": "markdown",
   "metadata": {},
   "source": [
    "##### everything seems to be in working order -- GREAT"
   ]
  },
  {
   "cell_type": "code",
   "execution_count": 14,
   "metadata": {},
   "outputs": [
    {
     "name": "stdout",
     "output_type": "stream",
     "text": [
      "201801  :  94802\n",
      "201802  :  106718\n",
      "201803  :  111382\n",
      "201804  :  131169\n",
      "201805  :  179125\n",
      "201806  :  195968\n",
      "201807  :  199222\n",
      "201808  :  192162\n",
      "201809  :  186217\n",
      "201810  :  201458\n",
      "201811  :  134135\n",
      "201812  :  131363\n",
      "201901  :  192082\n",
      "201902  :  183412\n",
      "201903  :  256299\n",
      "201904  :  239111\n",
      "201905  :  182163\n",
      "201906  :  191772\n",
      "201907  :  258102\n",
      "201908  :  210563\n",
      "201909  :  217986\n",
      "201910  :  239895\n",
      "201911  :  185496\n",
      "201912  :  150102\n",
      "202001  :  295854\n",
      "202002  :  432354\n"
     ]
    }
   ],
   "source": [
    "bike_data.do_on_all(rentals_per_month)"
   ]
  },
  {
   "cell_type": "markdown",
   "metadata": {},
   "source": [
    "#### looks like they're growing and had a HUGE february. Let's graph this l8r"
   ]
  },
  {
   "cell_type": "code",
   "execution_count": 16,
   "metadata": {},
   "outputs": [
    {
     "name": "stdout",
     "output_type": "stream",
     "text": [
      "201801\n",
      "Total Weekend Trips: 15705 | expected:  24465\n",
      "Total Weekday Trips: 79097 | expected:  70336\n",
      "Most popular day was on: 1 | Least popular day was on: 0\n",
      "201802\n",
      "Total Weekend Trips: 17600 | expected:  30490\n",
      "Total Weekday Trips: 89118 | expected:  76227\n",
      "Most popular day was on: 3 | Least popular day was on: 6\n",
      "201803\n",
      "Total Weekend Trips: 19478 | expected:  32336\n",
      "Total Weekday Trips: 91904 | expected:  79045\n",
      "Most popular day was on: 3 | Least popular day was on: 5\n",
      "201804\n",
      "Total Weekend Trips: 24819 | expected:  39350\n",
      "Total Weekday Trips: 106350 | expected:  91818\n",
      "Most popular day was on: 2 | Least popular day was on: 4\n",
      "201805\n",
      "Total Weekend Trips: 28679 | expected:  46225\n",
      "Total Weekday Trips: 150446 | expected:  132899\n",
      "Most popular day was on: 3 | Least popular day was on: 6\n",
      "201806\n",
      "Total Weekend Trips: 37835 | expected:  58790\n",
      "Total Weekday Trips: 158133 | expected:  137177\n",
      "Most popular day was on: 1 | Least popular day was on: 6\n",
      "201807\n",
      "Total Weekend Trips: 37027 | expected:  57838\n",
      "Total Weekday Trips: 162195 | expected:  141383\n",
      "Most popular day was on: 2 | Least popular day was on: 6\n",
      "201808\n",
      "Total Weekend Trips: 30058 | expected:  49590\n",
      "Total Weekday Trips: 162104 | expected:  142571\n",
      "Most popular day was on: 3 | Least popular day was on: 6\n",
      "201809\n",
      "Total Weekend Trips: 39527 | expected:  62072\n",
      "Total Weekday Trips: 146690 | expected:  124144\n",
      "Most popular day was on: 3 | Least popular day was on: 0\n",
      "201810\n",
      "Total Weekend Trips: 31159 | expected:  51989\n",
      "Total Weekday Trips: 170299 | expected:  149468\n",
      "Most popular day was on: 2 | Least popular day was on: 6\n",
      "201811\n",
      "Total Weekend Trips: 20950 | expected:  35769\n",
      "Total Weekday Trips: 113185 | expected:  98365\n",
      "Most popular day was on: 1 | Least popular day was on: 4\n",
      "201812\n",
      "Total Weekend Trips: 26091 | expected:  42375\n",
      "Total Weekday Trips: 105272 | expected:  88987\n",
      "Most popular day was on: 1 | Least popular day was on: 0\n",
      "201901\n",
      "Total Weekend Trips: 29079 | expected:  49569\n",
      "Total Weekday Trips: 163003 | expected:  142512\n",
      "Most popular day was on: 1 | Least popular day was on: 6\n",
      "201902\n",
      "Total Weekend Trips: 30928 | expected:  52403\n",
      "Total Weekday Trips: 152484 | expected:  131008\n",
      "Most popular day was on: 3 | Least popular day was on: 5\n",
      "201903\n",
      "Total Weekend Trips: 55625 | expected:  82677\n",
      "Total Weekday Trips: 200674 | expected:  173621\n",
      "Most popular day was on: 1 | Least popular day was on: 5\n",
      "201904\n",
      "Total Weekend Trips: 41427 | expected:  63762\n",
      "Total Weekday Trips: 197684 | expected:  175348\n",
      "Most popular day was on: 2 | Least popular day was on: 6\n",
      "201905\n",
      "Total Weekend Trips: 26334 | expected:  47009\n",
      "Total Weekday Trips: 155829 | expected:  135153\n",
      "Most popular day was on: 2 | Least popular day was on: 5\n",
      "201906\n",
      "Total Weekend Trips: 39841 | expected:  63924\n",
      "Total Weekday Trips: 151931 | expected:  127848\n",
      "Most popular day was on: 1 | Least popular day was on: 6\n",
      "201907\n",
      "Total Weekend Trips: 47594 | expected:  66606\n",
      "Total Weekday Trips: 210508 | expected:  191495\n",
      "Most popular day was on: 2 | Least popular day was on: 3\n",
      "201908\n",
      "Total Weekend Trips: 37910 | expected:  61131\n",
      "Total Weekday Trips: 172653 | expected:  149431\n",
      "Most popular day was on: 2 | Least popular day was on: 5\n",
      "201909\n",
      "Total Weekend Trips: 40421 | expected:  65395\n",
      "Total Weekday Trips: 177565 | expected:  152590\n",
      "Most popular day was on: 2 | Least popular day was on: 6\n",
      "201910\n",
      "Total Weekend Trips: 37352 | expected:  61908\n",
      "Total Weekday Trips: 202543 | expected:  177986\n",
      "Most popular day was on: 3 | Least popular day was on: 6\n",
      "201911\n",
      "Total Weekend Trips: 34896 | expected:  55648\n",
      "Total Weekday Trips: 150600 | expected:  129847\n",
      "Most popular day was on: 1 | Least popular day was on: 5\n",
      "201912\n",
      "Total Weekend Trips: 25267 | expected:  43578\n",
      "Total Weekday Trips: 124835 | expected:  106524\n",
      "Most popular day was on: 3 | Least popular day was on: 6\n",
      "202001\n",
      "Total Weekend Trips: 53918 | expected:  76349\n",
      "Total Weekday Trips: 241936 | expected:  219504\n",
      "Most popular day was on: 3 | Least popular day was on: 2\n",
      "202002\n",
      "Total Weekend Trips: 108268 | expected:  134178\n",
      "Total Weekday Trips: 324086 | expected:  298175\n",
      "Most popular day was on: 5 | Least popular day was on: 6\n"
     ]
    }
   ],
   "source": [
    "bike_data.do_on_all(weekend_averages)"
   ]
  },
  {
   "cell_type": "markdown",
   "metadata": {},
   "source": [
    "#### Surprised to see that without fail, weekend trips are proportionally less than weekdays!\n",
    "## will come back to this later\n"
   ]
  },
  {
   "cell_type": "code",
   "execution_count": 17,
   "metadata": {},
   "outputs": [
    {
     "data": {
      "text/html": [
       "<div>\n",
       "<style scoped>\n",
       "    .dataframe tbody tr th:only-of-type {\n",
       "        vertical-align: middle;\n",
       "    }\n",
       "\n",
       "    .dataframe tbody tr th {\n",
       "        vertical-align: top;\n",
       "    }\n",
       "\n",
       "    .dataframe thead th {\n",
       "        text-align: right;\n",
       "    }\n",
       "</style>\n",
       "<table border=\"1\" class=\"dataframe\">\n",
       "  <thead>\n",
       "    <tr style=\"text-align: right;\">\n",
       "      <th></th>\n",
       "      <th>duration_sec</th>\n",
       "      <th>start_time</th>\n",
       "      <th>end_time</th>\n",
       "      <th>start_station_id</th>\n",
       "      <th>start_station_name</th>\n",
       "      <th>start_station_latitude</th>\n",
       "      <th>start_station_longitude</th>\n",
       "      <th>end_station_id</th>\n",
       "      <th>end_station_name</th>\n",
       "      <th>end_station_latitude</th>\n",
       "      <th>end_station_longitude</th>\n",
       "      <th>bike_id</th>\n",
       "      <th>user_type</th>\n",
       "    </tr>\n",
       "  </thead>\n",
       "  <tbody>\n",
       "    <tr>\n",
       "      <td>0</td>\n",
       "      <td>80110</td>\n",
       "      <td>2017-12-31 16:57:39.6540</td>\n",
       "      <td>2018-01-01 15:12:50.2450</td>\n",
       "      <td>74</td>\n",
       "      <td>Laguna St at Hayes St</td>\n",
       "      <td>37.776435</td>\n",
       "      <td>-122.426244</td>\n",
       "      <td>43</td>\n",
       "      <td>San Francisco Public Library (Grove St at Hyde...</td>\n",
       "      <td>37.778768</td>\n",
       "      <td>-122.415929</td>\n",
       "      <td>96</td>\n",
       "      <td>Customer</td>\n",
       "    </tr>\n",
       "    <tr>\n",
       "      <td>1</td>\n",
       "      <td>78800</td>\n",
       "      <td>2017-12-31 15:56:34.8420</td>\n",
       "      <td>2018-01-01 13:49:55.6170</td>\n",
       "      <td>284</td>\n",
       "      <td>Yerba Buena Center for the Arts (Howard St at ...</td>\n",
       "      <td>37.784872</td>\n",
       "      <td>-122.400876</td>\n",
       "      <td>96</td>\n",
       "      <td>Dolores St at 15th St</td>\n",
       "      <td>37.766210</td>\n",
       "      <td>-122.426614</td>\n",
       "      <td>88</td>\n",
       "      <td>Customer</td>\n",
       "    </tr>\n",
       "    <tr>\n",
       "      <td>2</td>\n",
       "      <td>45768</td>\n",
       "      <td>2017-12-31 22:45:48.4110</td>\n",
       "      <td>2018-01-01 11:28:36.8830</td>\n",
       "      <td>245</td>\n",
       "      <td>Downtown Berkeley BART</td>\n",
       "      <td>37.870348</td>\n",
       "      <td>-122.267764</td>\n",
       "      <td>245</td>\n",
       "      <td>Downtown Berkeley BART</td>\n",
       "      <td>37.870348</td>\n",
       "      <td>-122.267764</td>\n",
       "      <td>1094</td>\n",
       "      <td>Customer</td>\n",
       "    </tr>\n",
       "    <tr>\n",
       "      <td>3</td>\n",
       "      <td>62172</td>\n",
       "      <td>2017-12-31 17:31:10.6360</td>\n",
       "      <td>2018-01-01 10:47:23.5310</td>\n",
       "      <td>60</td>\n",
       "      <td>8th St at Ringold St</td>\n",
       "      <td>37.774520</td>\n",
       "      <td>-122.409449</td>\n",
       "      <td>5</td>\n",
       "      <td>Powell St BART Station (Market St at 5th St)</td>\n",
       "      <td>37.783899</td>\n",
       "      <td>-122.408445</td>\n",
       "      <td>2831</td>\n",
       "      <td>Customer</td>\n",
       "    </tr>\n",
       "    <tr>\n",
       "      <td>4</td>\n",
       "      <td>43603</td>\n",
       "      <td>2017-12-31 14:23:14.0010</td>\n",
       "      <td>2018-01-01 02:29:57.5710</td>\n",
       "      <td>239</td>\n",
       "      <td>Bancroft Way at Telegraph Ave</td>\n",
       "      <td>37.868813</td>\n",
       "      <td>-122.258764</td>\n",
       "      <td>247</td>\n",
       "      <td>Fulton St at Bancroft Way</td>\n",
       "      <td>37.867789</td>\n",
       "      <td>-122.265896</td>\n",
       "      <td>3167</td>\n",
       "      <td>Subscriber</td>\n",
       "    </tr>\n",
       "  </tbody>\n",
       "</table>\n",
       "</div>"
      ],
      "text/plain": [
       "   duration_sec                start_time                  end_time  \\\n",
       "0         80110  2017-12-31 16:57:39.6540  2018-01-01 15:12:50.2450   \n",
       "1         78800  2017-12-31 15:56:34.8420  2018-01-01 13:49:55.6170   \n",
       "2         45768  2017-12-31 22:45:48.4110  2018-01-01 11:28:36.8830   \n",
       "3         62172  2017-12-31 17:31:10.6360  2018-01-01 10:47:23.5310   \n",
       "4         43603  2017-12-31 14:23:14.0010  2018-01-01 02:29:57.5710   \n",
       "\n",
       "   start_station_id                                 start_station_name  \\\n",
       "0                74                              Laguna St at Hayes St   \n",
       "1               284  Yerba Buena Center for the Arts (Howard St at ...   \n",
       "2               245                             Downtown Berkeley BART   \n",
       "3                60                               8th St at Ringold St   \n",
       "4               239                      Bancroft Way at Telegraph Ave   \n",
       "\n",
       "   start_station_latitude  start_station_longitude  end_station_id  \\\n",
       "0               37.776435              -122.426244              43   \n",
       "1               37.784872              -122.400876              96   \n",
       "2               37.870348              -122.267764             245   \n",
       "3               37.774520              -122.409449               5   \n",
       "4               37.868813              -122.258764             247   \n",
       "\n",
       "                                    end_station_name  end_station_latitude  \\\n",
       "0  San Francisco Public Library (Grove St at Hyde...             37.778768   \n",
       "1                              Dolores St at 15th St             37.766210   \n",
       "2                             Downtown Berkeley BART             37.870348   \n",
       "3       Powell St BART Station (Market St at 5th St)             37.783899   \n",
       "4                          Fulton St at Bancroft Way             37.867789   \n",
       "\n",
       "   end_station_longitude  bike_id   user_type  \n",
       "0            -122.415929       96    Customer  \n",
       "1            -122.426614       88    Customer  \n",
       "2            -122.267764     1094    Customer  \n",
       "3            -122.408445     2831    Customer  \n",
       "4            -122.265896     3167  Subscriber  "
      ]
     },
     "execution_count": 17,
     "metadata": {},
     "output_type": "execute_result"
    }
   ],
   "source": [
    "test_df.head()"
   ]
  },
  {
   "cell_type": "code",
   "execution_count": 322,
   "metadata": {},
   "outputs": [],
   "source": []
  },
  {
   "cell_type": "code",
   "execution_count": 32,
   "metadata": {},
   "outputs": [
    {
     "name": "stdout",
     "output_type": "stream",
     "text": [
      "\n",
      "Average Trip: 0.91 miles\n",
      "#of Short Trips: 225\n"
     ]
    }
   ],
   "source": [
    "distance_calculations(test_df, 'test_df') #currently_shows_points"
   ]
  },
  {
   "cell_type": "markdown",
   "metadata": {},
   "source": [
    "## "
   ]
  },
  {
   "cell_type": "code",
   "execution_count": null,
   "metadata": {},
   "outputs": [
    {
     "name": "stdout",
     "output_type": "stream",
     "text": [
      "201801\n",
      "Average Trip: 1.01 miles\n",
      "# of Short Trips: 2226\n",
      "201802\n",
      "Average Trip: 1.00 miles\n",
      "# of Short Trips: 2656\n",
      "201803\n",
      "Average Trip: 0.98 miles\n",
      "# of Short Trips: 2969\n",
      "201804\n",
      "Average Trip: 0.98 miles\n",
      "# of Short Trips: 4276\n",
      "201805\n",
      "Average Trip: 0.98 miles\n",
      "# of Short Trips: 5953\n",
      "201806\n",
      "Average Trip: 0.98 miles\n",
      "# of Short Trips: 7662\n"
     ]
    }
   ],
   "source": [
    "bike_data.do_on_all(distance_calculations)"
   ]
  },
  {
   "cell_type": "code",
   "execution_count": null,
   "metadata": {},
   "outputs": [],
   "source": []
  }
 ],
 "metadata": {
  "kernelspec": {
   "display_name": "Python 3",
   "language": "python",
   "name": "python3"
  },
  "language_info": {
   "codemirror_mode": {
    "name": "ipython",
    "version": 3
   },
   "file_extension": ".py",
   "mimetype": "text/x-python",
   "name": "python",
   "nbconvert_exporter": "python",
   "pygments_lexer": "ipython3",
   "version": "3.7.4"
  }
 },
 "nbformat": 4,
 "nbformat_minor": 4
}
