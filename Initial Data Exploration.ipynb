{
 "cells": [
  {
   "cell_type": "markdown",
   "metadata": {},
   "source": [
    "### Let's see what this looks like "
   ]
  },
  {
   "cell_type": "code",
   "execution_count": 78,
   "metadata": {},
   "outputs": [],
   "source": [
    "import pandas as pd\n",
    "import numpy as np\n",
    "import os\n",
    "import datetime\n",
    "import matplotlib.pyplot as plt"
   ]
  },
  {
   "cell_type": "markdown",
   "metadata": {},
   "source": [
    "#### I'll be testing functions on this abbreviated chunk of one file"
   ]
  },
  {
   "cell_type": "code",
   "execution_count": 186,
   "metadata": {},
   "outputs": [],
   "source": [
    "test_df = pd.read_csv('data/2017-fordgobike-tripdata.csv').head(3000)"
   ]
  },
  {
   "cell_type": "code",
   "execution_count": 187,
   "metadata": {},
   "outputs": [
    {
     "name": "stdout",
     "output_type": "stream",
     "text": [
      "<class 'pandas.core.frame.DataFrame'>\n",
      "RangeIndex: 3000 entries, 0 to 2999\n",
      "Data columns (total 13 columns):\n",
      "duration_sec               3000 non-null int64\n",
      "start_time                 3000 non-null object\n",
      "end_time                   3000 non-null object\n",
      "start_station_id           3000 non-null int64\n",
      "start_station_name         3000 non-null object\n",
      "start_station_latitude     3000 non-null float64\n",
      "start_station_longitude    3000 non-null float64\n",
      "end_station_id             3000 non-null int64\n",
      "end_station_name           3000 non-null object\n",
      "end_station_latitude       3000 non-null float64\n",
      "end_station_longitude      3000 non-null float64\n",
      "bike_id                    3000 non-null int64\n",
      "user_type                  3000 non-null object\n",
      "dtypes: float64(4), int64(4), object(5)\n",
      "memory usage: 304.8+ KB\n"
     ]
    }
   ],
   "source": [
    "test_df.info()"
   ]
  },
  {
   "cell_type": "code",
   "execution_count": 55,
   "metadata": {},
   "outputs": [],
   "source": [
    "folder = 'data/'\n",
    "files = [folder+file for file in os.listdir(folder) if not file.startswith('.')] "
   ]
  },
  {
   "cell_type": "code",
   "execution_count": 49,
   "metadata": {},
   "outputs": [],
   "source": [
    "target_columns = ['start_time', 'end_time', \n",
    "                             'start_station_latitude', 'start_station_longitude',\n",
    "                             'end_station_latitude', 'end_station_longitude'] #most important for now"
   ]
  },
  {
   "cell_type": "markdown",
   "metadata": {},
   "source": [
    "### THERE IS JUST OVER 1GB OF DATA ACROSS 27 CSV'S AND WE WON'T BE ABLE TO CONCAT THIS ALL INTO 1 DATAFRAME\n",
    "#### I'LL WRITE FUNCTIONS THAT WILL BE CALLED ON INDIVIDUAL DFs\n",
    "#### >FIRST WE'LL WANT TO CHECK TO SEE IF OUR THE MOST IMPORTANT COLUMNS HAVE NULL VALUES TO BE CLEANED"
   ]
  },
  {
   "cell_type": "code",
   "execution_count": 258,
   "metadata": {},
   "outputs": [],
   "source": [
    "class BikeData():\n",
    "    def __init__(self, files):\n",
    "        self.files = files\n",
    "        \n",
    "    def do_on_all(self, func):  \n",
    "        for file in self.files:\n",
    "            current_df = pd.read_csv(file)\n",
    "            func(current_df, file)\n",
    "                \n",
    "    def check_problem_columns(self, current_df, current_file, columns_that_cant_be_null=target_columns):        \n",
    "        problem_columns = []\n",
    "        for col in columns_that_cant_be_null:\n",
    "            problem_rows = current_df[current_df[col].isnull()]\n",
    "            if problem_rows.size > 0:\n",
    "                problem_columns.append(col)\n",
    "            if len(problem_columns) > 0:\n",
    "                print (current_file)\n",
    "                print (problem_problem_columns)\n",
    "        return\n",
    "    \n",
    "    def rentals_per_month(self, current_df=None, current_file=None):\n",
    "        rentals = current_df['start_time'].size\n",
    "        print (\"{0}  :  {1}\".format(current_file[5:11], rentals))\n",
    "        return\n",
    "    \n",
    "    def weekend_averages(self, current_df, current_file):\n",
    "        time = current_df['start_time']\n",
    "        \n",
    "        current_df['day'] = time.apply(lambda date: date.split('-')[2][:2]) #the original string is formatted y-m-d t:i:m:e\n",
    "        \n",
    "        current_df['weekends'] = (time.appy(lambda date: pd.to_datetime(date))\n",
    "                                      .apply(lambda date: date.weekday() in [5,6])) #dt.weekday returns a list value, 5 & 6 are Sat & Sun\n",
    "        \n",
    "        wk_group = current_df.groupby('weekend')['day']\n",
    "        number_of_days = int(current_df['day'].max()) #returns 28, 30 or 31 depending on length of month\n",
    "        \n",
    "        number_of_weekends = wk_group.nunique()[True]\n",
    "        number_of_weekdays = number_of_days - number_of_weekends\n",
    "        \n",
    "        weekend_ratio = number_of_weekends/number_of_days\n",
    "        weekday_ratio = number_of_weekdays/number_of_days\n",
    "        \n",
    "        total_trips = current_df['day'].size\n",
    "        \n",
    "        expected_weekend_trips = int(total_trips*weekend_ratio)\n",
    "        expected_weekday_trips = int(total_trips*weekday_ratio)\n",
    "        \n",
    "        actual_weekend_trips = wk_group.size()[True]\n",
    "        actual_weekday_trips = wk_group.size()[False]\n",
    "\n",
    "        print (current_file[5:11])\n",
    "        print (\"Total Weekend Trips: {0} | \")\n",
    "                "
   ]
  },
  {
   "cell_type": "code",
   "execution_count": 246,
   "metadata": {},
   "outputs": [],
   "source": [
    "all_data = BikeData(files)"
   ]
  },
  {
   "cell_type": "code",
   "execution_count": 234,
   "metadata": {},
   "outputs": [],
   "source": [
    "all_data.do_on_all([check_problem_columns])"
   ]
  },
  {
   "cell_type": "markdown",
   "metadata": {},
   "source": [
    "##### everything seems to be in working order -- GREAT"
   ]
  },
  {
   "cell_type": "code",
   "execution_count": 81,
   "metadata": {},
   "outputs": [
    {
     "name": "stdout",
     "output_type": "stream",
     "text": [
      "2019-02-28 17:32:10.1450\n",
      "<class 'str'>\n"
     ]
    }
   ],
   "source": [
    "print (test_df['start_time'][0])\n",
    "print (type(test_df['start_time'][0]))"
   ]
  },
  {
   "cell_type": "code",
   "execution_count": 188,
   "metadata": {},
   "outputs": [],
   "source": [
    "test_df['weekend'] = test_df['start_time'].apply(lambda date: pd.to_datetime(date)).apply(lambda date: date.weekday() in [5,6])"
   ]
  },
  {
   "cell_type": "code",
   "execution_count": 189,
   "metadata": {},
   "outputs": [],
   "source": [
    "test_df['day'] = test_df['start_time'].apply(lambda date: date.split('-')[2][:2])"
   ]
  },
  {
   "cell_type": "code",
   "execution_count": 215,
   "metadata": {},
   "outputs": [
    {
     "data": {
      "text/plain": [
       "weekend\n",
       "False    1\n",
       "True     2\n",
       "Name: day, dtype: int64"
      ]
     },
     "execution_count": 215,
     "metadata": {},
     "output_type": "execute_result"
    }
   ],
   "source": [
    "test_df.groupby('weekend')['day'].nunique()"
   ]
  },
  {
   "cell_type": "code",
   "execution_count": 223,
   "metadata": {},
   "outputs": [
    {
     "data": {
      "text/plain": [
       "2854"
      ]
     },
     "execution_count": 223,
     "metadata": {},
     "output_type": "execute_result"
    }
   ],
   "source": [
    "test_df.groupby('weekend')['day'].size()[True]"
   ]
  },
  {
   "cell_type": "code",
   "execution_count": 220,
   "metadata": {},
   "outputs": [
    {
     "data": {
      "text/plain": [
       "3000"
      ]
     },
     "execution_count": 220,
     "metadata": {},
     "output_type": "execute_result"
    }
   ],
   "source": [
    "test_df['day'].size"
   ]
  },
  {
   "cell_type": "code",
   "execution_count": 177,
   "metadata": {},
   "outputs": [
    {
     "data": {
      "text/html": [
       "<div>\n",
       "<style scoped>\n",
       "    .dataframe tbody tr th:only-of-type {\n",
       "        vertical-align: middle;\n",
       "    }\n",
       "\n",
       "    .dataframe tbody tr th {\n",
       "        vertical-align: top;\n",
       "    }\n",
       "\n",
       "    .dataframe thead th {\n",
       "        text-align: right;\n",
       "    }\n",
       "</style>\n",
       "<table border=\"1\" class=\"dataframe\">\n",
       "  <thead>\n",
       "    <tr style=\"text-align: right;\">\n",
       "      <th></th>\n",
       "      <th>duration_sec</th>\n",
       "      <th>start_time</th>\n",
       "      <th>end_time</th>\n",
       "      <th>start_station_id</th>\n",
       "      <th>start_station_name</th>\n",
       "      <th>start_station_latitude</th>\n",
       "      <th>start_station_longitude</th>\n",
       "      <th>end_station_id</th>\n",
       "      <th>end_station_name</th>\n",
       "      <th>end_station_latitude</th>\n",
       "      <th>end_station_longitude</th>\n",
       "      <th>bike_id</th>\n",
       "      <th>user_type</th>\n",
       "      <th>weekend</th>\n",
       "    </tr>\n",
       "  </thead>\n",
       "  <tbody>\n",
       "    <tr>\n",
       "      <td>995</td>\n",
       "      <td>456</td>\n",
       "      <td>2017-12-31 12:44:59.8500</td>\n",
       "      <td>2017-12-31 12:52:35.9240</td>\n",
       "      <td>249</td>\n",
       "      <td>Russell St at College Ave</td>\n",
       "      <td>37.858473</td>\n",
       "      <td>-122.253253</td>\n",
       "      <td>249</td>\n",
       "      <td>Russell St at College Ave</td>\n",
       "      <td>37.858473</td>\n",
       "      <td>-122.253253</td>\n",
       "      <td>309</td>\n",
       "      <td>Customer</td>\n",
       "      <td>True</td>\n",
       "    </tr>\n",
       "    <tr>\n",
       "      <td>996</td>\n",
       "      <td>651</td>\n",
       "      <td>2017-12-31 12:41:40.1680</td>\n",
       "      <td>2017-12-31 12:52:31.7810</td>\n",
       "      <td>74</td>\n",
       "      <td>Laguna St at Hayes St</td>\n",
       "      <td>37.776435</td>\n",
       "      <td>-122.426244</td>\n",
       "      <td>123</td>\n",
       "      <td>Folsom St at 19th St</td>\n",
       "      <td>37.760594</td>\n",
       "      <td>-122.414817</td>\n",
       "      <td>1665</td>\n",
       "      <td>Subscriber</td>\n",
       "      <td>True</td>\n",
       "    </tr>\n",
       "    <tr>\n",
       "      <td>997</td>\n",
       "      <td>224</td>\n",
       "      <td>2017-12-31 12:48:17.9220</td>\n",
       "      <td>2017-12-31 12:52:02.3550</td>\n",
       "      <td>93</td>\n",
       "      <td>4th St at Mission Bay Blvd S</td>\n",
       "      <td>37.770407</td>\n",
       "      <td>-122.391198</td>\n",
       "      <td>81</td>\n",
       "      <td>Berry St at 4th St</td>\n",
       "      <td>37.775880</td>\n",
       "      <td>-122.393170</td>\n",
       "      <td>3010</td>\n",
       "      <td>Subscriber</td>\n",
       "      <td>True</td>\n",
       "    </tr>\n",
       "    <tr>\n",
       "      <td>998</td>\n",
       "      <td>2804</td>\n",
       "      <td>2017-12-31 12:04:57.8690</td>\n",
       "      <td>2017-12-31 12:51:42.3310</td>\n",
       "      <td>134</td>\n",
       "      <td>Valencia St at 24th St</td>\n",
       "      <td>37.752428</td>\n",
       "      <td>-122.420628</td>\n",
       "      <td>15</td>\n",
       "      <td>San Francisco Ferry Building (Harry Bridges Pl...</td>\n",
       "      <td>37.795392</td>\n",
       "      <td>-122.394203</td>\n",
       "      <td>1658</td>\n",
       "      <td>Customer</td>\n",
       "      <td>True</td>\n",
       "    </tr>\n",
       "    <tr>\n",
       "      <td>999</td>\n",
       "      <td>2784</td>\n",
       "      <td>2017-12-31 12:05:09.8680</td>\n",
       "      <td>2017-12-31 12:51:34.7460</td>\n",
       "      <td>134</td>\n",
       "      <td>Valencia St at 24th St</td>\n",
       "      <td>37.752428</td>\n",
       "      <td>-122.420628</td>\n",
       "      <td>15</td>\n",
       "      <td>San Francisco Ferry Building (Harry Bridges Pl...</td>\n",
       "      <td>37.795392</td>\n",
       "      <td>-122.394203</td>\n",
       "      <td>3006</td>\n",
       "      <td>Customer</td>\n",
       "      <td>True</td>\n",
       "    </tr>\n",
       "  </tbody>\n",
       "</table>\n",
       "</div>"
      ],
      "text/plain": [
       "     duration_sec                start_time                  end_time  \\\n",
       "995           456  2017-12-31 12:44:59.8500  2017-12-31 12:52:35.9240   \n",
       "996           651  2017-12-31 12:41:40.1680  2017-12-31 12:52:31.7810   \n",
       "997           224  2017-12-31 12:48:17.9220  2017-12-31 12:52:02.3550   \n",
       "998          2804  2017-12-31 12:04:57.8690  2017-12-31 12:51:42.3310   \n",
       "999          2784  2017-12-31 12:05:09.8680  2017-12-31 12:51:34.7460   \n",
       "\n",
       "     start_station_id            start_station_name  start_station_latitude  \\\n",
       "995               249     Russell St at College Ave               37.858473   \n",
       "996                74         Laguna St at Hayes St               37.776435   \n",
       "997                93  4th St at Mission Bay Blvd S               37.770407   \n",
       "998               134        Valencia St at 24th St               37.752428   \n",
       "999               134        Valencia St at 24th St               37.752428   \n",
       "\n",
       "     start_station_longitude  end_station_id  \\\n",
       "995              -122.253253             249   \n",
       "996              -122.426244             123   \n",
       "997              -122.391198              81   \n",
       "998              -122.420628              15   \n",
       "999              -122.420628              15   \n",
       "\n",
       "                                      end_station_name  end_station_latitude  \\\n",
       "995                          Russell St at College Ave             37.858473   \n",
       "996                               Folsom St at 19th St             37.760594   \n",
       "997                                 Berry St at 4th St             37.775880   \n",
       "998  San Francisco Ferry Building (Harry Bridges Pl...             37.795392   \n",
       "999  San Francisco Ferry Building (Harry Bridges Pl...             37.795392   \n",
       "\n",
       "     end_station_longitude  bike_id   user_type  weekend  \n",
       "995            -122.253253      309    Customer     True  \n",
       "996            -122.414817     1665  Subscriber     True  \n",
       "997            -122.393170     3010  Subscriber     True  \n",
       "998            -122.394203     1658    Customer     True  \n",
       "999            -122.394203     3006    Customer     True  "
      ]
     },
     "execution_count": 177,
     "metadata": {},
     "output_type": "execute_result"
    }
   ],
   "source": [
    "test_df.tail()"
   ]
  },
  {
   "cell_type": "code",
   "execution_count": 259,
   "metadata": {},
   "outputs": [
    {
     "ename": "TypeError",
     "evalue": "rentals_per_month() missing 1 required positional argument: 'current_file'",
     "output_type": "error",
     "traceback": [
      "\u001b[0;31m---------------------------------------------------------------------------\u001b[0m",
      "\u001b[0;31mTypeError\u001b[0m                                 Traceback (most recent call last)",
      "\u001b[0;32m<ipython-input-259-a5a3a0c81241>\u001b[0m in \u001b[0;36m<module>\u001b[0;34m\u001b[0m\n\u001b[0;32m----> 1\u001b[0;31m \u001b[0mall_data\u001b[0m\u001b[0;34m.\u001b[0m\u001b[0mdo_on_all\u001b[0m\u001b[0;34m(\u001b[0m\u001b[0mrentals_per_month\u001b[0m\u001b[0;34m)\u001b[0m\u001b[0;34m\u001b[0m\u001b[0;34m\u001b[0m\u001b[0m\n\u001b[0m",
      "\u001b[0;32m<ipython-input-245-1196277d16a6>\u001b[0m in \u001b[0;36mdo_on_all\u001b[0;34m(self, func)\u001b[0m\n\u001b[1;32m      6\u001b[0m         \u001b[0;32mfor\u001b[0m \u001b[0mfile\u001b[0m \u001b[0;32min\u001b[0m \u001b[0mself\u001b[0m\u001b[0;34m.\u001b[0m\u001b[0mfiles\u001b[0m\u001b[0;34m:\u001b[0m\u001b[0;34m\u001b[0m\u001b[0;34m\u001b[0m\u001b[0m\n\u001b[1;32m      7\u001b[0m             \u001b[0mcurrent_df\u001b[0m \u001b[0;34m=\u001b[0m \u001b[0mpd\u001b[0m\u001b[0;34m.\u001b[0m\u001b[0mread_csv\u001b[0m\u001b[0;34m(\u001b[0m\u001b[0mfile\u001b[0m\u001b[0;34m)\u001b[0m\u001b[0;34m\u001b[0m\u001b[0;34m\u001b[0m\u001b[0m\n\u001b[0;32m----> 8\u001b[0;31m             \u001b[0mfunc\u001b[0m\u001b[0;34m(\u001b[0m\u001b[0mcurrent_df\u001b[0m\u001b[0;34m,\u001b[0m \u001b[0mfile\u001b[0m\u001b[0;34m)\u001b[0m\u001b[0;34m\u001b[0m\u001b[0;34m\u001b[0m\u001b[0m\n\u001b[0m\u001b[1;32m      9\u001b[0m \u001b[0;34m\u001b[0m\u001b[0m\n\u001b[1;32m     10\u001b[0m     \u001b[0;32mdef\u001b[0m \u001b[0mcheck_problem_columns\u001b[0m\u001b[0;34m(\u001b[0m\u001b[0mself\u001b[0m\u001b[0;34m,\u001b[0m \u001b[0mcurrent_df\u001b[0m\u001b[0;34m,\u001b[0m \u001b[0mcurrent_file\u001b[0m\u001b[0;34m,\u001b[0m \u001b[0mcolumns_that_cant_be_null\u001b[0m\u001b[0;34m=\u001b[0m\u001b[0mtarget_columns\u001b[0m\u001b[0;34m)\u001b[0m\u001b[0;34m:\u001b[0m\u001b[0;34m\u001b[0m\u001b[0;34m\u001b[0m\u001b[0m\n",
      "\u001b[0;31mTypeError\u001b[0m: rentals_per_month() missing 1 required positional argument: 'current_file'"
     ]
    }
   ],
   "source": [
    "all_data.do_on_all(rentals_per_month)"
   ]
  },
  {
   "cell_type": "code",
   "execution_count": 244,
   "metadata": {},
   "outputs": [
    {
     "ename": "NameError",
     "evalue": "name 'rentals_permonth' is not defined",
     "output_type": "error",
     "traceback": [
      "\u001b[0;31m---------------------------------------------------------------------------\u001b[0m",
      "\u001b[0;31mNameError\u001b[0m                                 Traceback (most recent call last)",
      "\u001b[0;32m<ipython-input-244-0e34ffa46df3>\u001b[0m in \u001b[0;36m<module>\u001b[0;34m\u001b[0m\n\u001b[0;32m----> 1\u001b[0;31m \u001b[0mrentals_permonth\u001b[0m\u001b[0;34m(\u001b[0m\u001b[0;34m)\u001b[0m\u001b[0;34m\u001b[0m\u001b[0;34m\u001b[0m\u001b[0m\n\u001b[0m",
      "\u001b[0;31mNameError\u001b[0m: name 'rentals_permonth' is not defined"
     ]
    }
   ],
   "source": [
    "rentals_permonth()"
   ]
  },
  {
   "cell_type": "code",
   "execution_count": null,
   "metadata": {},
   "outputs": [],
   "source": []
  }
 ],
 "metadata": {
  "kernelspec": {
   "display_name": "Python 3",
   "language": "python",
   "name": "python3"
  },
  "language_info": {
   "codemirror_mode": {
    "name": "ipython",
    "version": 3
   },
   "file_extension": ".py",
   "mimetype": "text/x-python",
   "name": "python",
   "nbconvert_exporter": "python",
   "pygments_lexer": "ipython3",
   "version": "3.7.4"
  }
 },
 "nbformat": 4,
 "nbformat_minor": 4
}
